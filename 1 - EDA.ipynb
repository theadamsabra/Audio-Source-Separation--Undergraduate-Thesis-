{
 "cells": [
  {
   "cell_type": "markdown",
   "metadata": {},
   "source": [
    "## Metadata Retrieval:"
   ]
  },
  {
   "cell_type": "code",
   "execution_count": 1,
   "metadata": {},
   "outputs": [],
   "source": [
    "import yaml\n",
    "import os\n",
    "import numpy as np"
   ]
  },
  {
   "cell_type": "code",
   "execution_count": 5,
   "metadata": {},
   "outputs": [],
   "source": [
    "class MetadataRetrieval:\n",
    "    def __init__(self, directory):\n",
    "        self.directory = directory\n",
    "        self.stem_dir = []\n",
    "        self.mix_name = []\n",
    "        self.stem_count = []\n",
    "        self.stems = []\n",
    "        self.num_stems = []\n",
    "        self.genre = []\n",
    "        for files in os.listdir(directory):\n",
    "            if files.split('.')[1] == 'yaml':\n",
    "                path = directory + '/' + files\n",
    "            else:\n",
    "                continue\n",
    "            with open(path) as yamlfile:\n",
    "                metadata = yaml.load(yamlfile, Loader=yaml.FullLoader)\n",
    "            self.mix_name.append(metadata['mix_filename'])\n",
    "            self.genre.append(metadata['genre'])\n",
    "            self.stem_dir.append(metadata['stem_dir'])\n",
    "            self.stem_count.append(len(metadata['stems']))\n",
    "            dl = []\n",
    "            for i in range(1, len(metadata['stems']) + 1):\n",
    "                if len(metadata['stems']) >= 10:\n",
    "                    if i < 10:\n",
    "                        dl.append(metadata['stems']['S0' + str(i)]['instrument'])\n",
    "                    else:\n",
    "                        dl.append(metadata['stems']['S' + str(i)]['instrument'])\n",
    "                else:\n",
    "                    dl.append(metadata['stems']['S0' + str(i)]['instrument'])\n",
    "            num = len(dl)\n",
    "            self.stems.append(dl)\n",
    "            self.num_stems.append(num)"
   ]
  },
  {
   "cell_type": "code",
   "execution_count": 6,
   "metadata": {},
   "outputs": [],
   "source": [
    "directory = 'Metadata'\n",
    "data = MetadataRetrieval(directory)"
   ]
  },
  {
   "cell_type": "markdown",
   "metadata": {},
   "source": [
    "## Exploratory Data Analysis:"
   ]
  },
  {
   "cell_type": "code",
   "execution_count": 4,
   "metadata": {},
   "outputs": [
    {
     "data": {
      "text/plain": [
       "(array([ 32., 162.,  83.,  26.,  15.,   5.,   3.,   2.,   0.,   2.]),\n",
       " array([ 1. ,  3.5,  6. ,  8.5, 11. , 13.5, 16. , 18.5, 21. , 23.5, 26. ]),\n",
       " <a list of 10 Patch objects>)"
      ]
     },
     "execution_count": 4,
     "metadata": {},
     "output_type": "execute_result"
    },
    {
     "data": {
      "image/png": "[encoded data removed]",
      "text/plain": [
       "<Figure size 432x288 with 1 Axes>"
      ]
     },
     "metadata": {
      "needs_background": "light"
     },
     "output_type": "display_data"
    }
   ],
   "source": [
    "from matplotlib import pyplot as plt\n",
    "\n",
    "plt.title('Number of Stems')\n",
    "plt.hist(np.array(data.num_stems))"
   ]
  },
  {
   "cell_type": "code",
   "execution_count": null,
   "metadata": {},
   "outputs": [],
   "source": []
  }
 ],
 "metadata": {
  "kernelspec": {
   "display_name": "thesis",
   "language": "python",
   "name": "thesis"
  },
  "language_info": {
   "codemirror_mode": {
    "name": "ipython",
    "version": 3
   },
   "file_extension": ".py",
   "mimetype": "text/x-python",
   "name": "python",
   "nbconvert_exporter": "python",
   "pygments_lexer": "ipython3",
   "version": "3.7.7"
  }
 },
 "nbformat": 4,
 "nbformat_minor": 4
}
