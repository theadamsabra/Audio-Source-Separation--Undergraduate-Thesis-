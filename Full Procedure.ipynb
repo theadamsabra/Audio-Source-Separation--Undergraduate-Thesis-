{
<<<<<<< HEAD
 "cells": [
  {
   "cell_type": "code",
   "execution_count": 21,
   "metadata": {},
   "outputs": [],
   "source": [
    "import pandas as pd\n",
    "import numpy as np\n",
    "import os\n",
    "from scipy.io import wavfile\n",
    "from IPython.display import Audio\n",
    "from matplotlib import pyplot as plt"
   ]
  },
  {
   "cell_type": "markdown",
   "metadata": {},
   "source": [
    "## Overview of Procedure:\n",
    "\n",
    "    1- Spectrograms/Spectral Analysis of entire songs\n",
    "    2- Feature engineering of audio data using librosa\n",
    "    3- Model Building with Tensorflow"
   ]
  },
  {
   "cell_type": "markdown",
   "metadata": {},
   "source": [
    "## Data Retrieval:\n",
    "\n",
    "### NOTE: This dataset will not be used\n",
    "#### Constants:"
   ]
  },
  {
   "cell_type": "code",
   "execution_count": 2,
   "metadata": {},
   "outputs": [],
   "source": [
    "datapath = 'musicnet/train_data/'"
   ]
  },
  {
   "cell_type": "markdown",
   "metadata": {},
   "source": [
    "### Data / Label Collection:"
   ]
  },
  {
   "cell_type": "code",
   "execution_count": 11,
   "metadata": {},
   "outputs": [],
   "source": [
    "def sig_rate_retrieval(datapath):    \n",
    "    songlen = []\n",
    "    for filename in os.listdir(datapath):\n",
    "        rate, signal = wavfile.read(datapath + filename)\n",
    "        songlen.append(signal.shape[0])\n",
    "        return songlen"
   ]
  },
  {
   "cell_type": "code",
   "execution_count": 3,
   "metadata": {},
   "outputs": [
    {
     "data": {
      "text/html": [
       "<div>\n",
       "<style scoped>\n",
       "    .dataframe tbody tr th:only-of-type {\n",
       "        vertical-align: middle;\n",
       "    }\n",
       "\n",
       "    .dataframe tbody tr th {\n",
       "        vertical-align: top;\n",
       "    }\n",
       "\n",
       "    .dataframe thead th {\n",
       "        text-align: right;\n",
       "    }\n",
       "</style>\n",
       "<table border=\"1\" class=\"dataframe\">\n",
       "  <thead>\n",
       "    <tr style=\"text-align: right;\">\n",
       "      <th></th>\n",
       "      <th>start_time</th>\n",
       "      <th>end_time</th>\n",
       "      <th>instrument</th>\n",
       "      <th>note</th>\n",
       "      <th>start_beat</th>\n",
       "      <th>end_beat</th>\n",
       "      <th>note_value</th>\n",
       "    </tr>\n",
       "  </thead>\n",
       "  <tbody>\n",
       "    <tr>\n",
       "      <th>0</th>\n",
       "      <td>9182</td>\n",
       "      <td>90078</td>\n",
       "      <td>43</td>\n",
       "      <td>53</td>\n",
       "      <td>4.000</td>\n",
       "      <td>1.500</td>\n",
       "      <td>Dotted Quarter</td>\n",
       "    </tr>\n",
       "    <tr>\n",
       "      <th>1</th>\n",
       "      <td>9182</td>\n",
       "      <td>33758</td>\n",
       "      <td>42</td>\n",
       "      <td>65</td>\n",
       "      <td>4.000</td>\n",
       "      <td>0.500</td>\n",
       "      <td>Eighth</td>\n",
       "    </tr>\n",
       "    <tr>\n",
       "      <th>2</th>\n",
       "      <td>9182</td>\n",
       "      <td>62430</td>\n",
       "      <td>1</td>\n",
       "      <td>69</td>\n",
       "      <td>4.000</td>\n",
       "      <td>1.000</td>\n",
       "      <td>Quarter</td>\n",
       "    </tr>\n",
       "    <tr>\n",
       "      <th>3</th>\n",
       "      <td>9182</td>\n",
       "      <td>202206</td>\n",
       "      <td>44</td>\n",
       "      <td>41</td>\n",
       "      <td>4.000</td>\n",
       "      <td>3.500</td>\n",
       "      <td>Whole</td>\n",
       "    </tr>\n",
       "    <tr>\n",
       "      <th>4</th>\n",
       "      <td>9182</td>\n",
       "      <td>62430</td>\n",
       "      <td>1</td>\n",
       "      <td>81</td>\n",
       "      <td>4.000</td>\n",
       "      <td>1.000</td>\n",
       "      <td>Quarter</td>\n",
       "    </tr>\n",
       "    <tr>\n",
       "      <th>...</th>\n",
       "      <td>...</td>\n",
       "      <td>...</td>\n",
       "      <td>...</td>\n",
       "      <td>...</td>\n",
       "      <td>...</td>\n",
       "      <td>...</td>\n",
       "      <td>...</td>\n",
       "    </tr>\n",
       "    <tr>\n",
       "      <th>6575</th>\n",
       "      <td>19196894</td>\n",
       "      <td>19421150</td>\n",
       "      <td>44</td>\n",
       "      <td>29</td>\n",
       "      <td>365.000</td>\n",
       "      <td>3.000</td>\n",
       "      <td>Dotted Half</td>\n",
       "    </tr>\n",
       "    <tr>\n",
       "      <th>6576</th>\n",
       "      <td>19226590</td>\n",
       "      <td>19233758</td>\n",
       "      <td>1</td>\n",
       "      <td>60</td>\n",
       "      <td>365.375</td>\n",
       "      <td>0.125</td>\n",
       "      <td>Thirty Second</td>\n",
       "    </tr>\n",
       "    <tr>\n",
       "      <th>6577</th>\n",
       "      <td>19226590</td>\n",
       "      <td>19233758</td>\n",
       "      <td>1</td>\n",
       "      <td>48</td>\n",
       "      <td>365.375</td>\n",
       "      <td>0.125</td>\n",
       "      <td>Thirty Second</td>\n",
       "    </tr>\n",
       "    <tr>\n",
       "      <th>6578</th>\n",
       "      <td>19233758</td>\n",
       "      <td>19421150</td>\n",
       "      <td>1</td>\n",
       "      <td>65</td>\n",
       "      <td>365.500</td>\n",
       "      <td>2.500</td>\n",
       "      <td>Dotted Half</td>\n",
       "    </tr>\n",
       "    <tr>\n",
       "      <th>6579</th>\n",
       "      <td>19233758</td>\n",
       "      <td>19421150</td>\n",
       "      <td>1</td>\n",
       "      <td>53</td>\n",
       "      <td>365.500</td>\n",
       "      <td>2.500</td>\n",
       "      <td>Dotted Half</td>\n",
       "    </tr>\n",
       "  </tbody>\n",
       "</table>\n",
       "<p>6580 rows × 7 columns</p>\n",
       "</div>"
      ],
      "text/plain": [
       "      start_time  end_time  instrument  note  start_beat  end_beat  \\\n",
       "0           9182     90078          43    53       4.000     1.500   \n",
       "1           9182     33758          42    65       4.000     0.500   \n",
       "2           9182     62430           1    69       4.000     1.000   \n",
       "3           9182    202206          44    41       4.000     3.500   \n",
       "4           9182     62430           1    81       4.000     1.000   \n",
       "...          ...       ...         ...   ...         ...       ...   \n",
       "6575    19196894  19421150          44    29     365.000     3.000   \n",
       "6576    19226590  19233758           1    60     365.375     0.125   \n",
       "6577    19226590  19233758           1    48     365.375     0.125   \n",
       "6578    19233758  19421150           1    65     365.500     2.500   \n",
       "6579    19233758  19421150           1    53     365.500     2.500   \n",
       "\n",
       "          note_value  \n",
       "0     Dotted Quarter  \n",
       "1             Eighth  \n",
       "2            Quarter  \n",
       "3              Whole  \n",
       "4            Quarter  \n",
       "...              ...  \n",
       "6575     Dotted Half  \n",
       "6576   Thirty Second  \n",
       "6577   Thirty Second  \n",
       "6578     Dotted Half  \n",
       "6579     Dotted Half  \n",
       "\n",
       "[6580 rows x 7 columns]"
      ]
     },
     "execution_count": 3,
     "metadata": {},
     "output_type": "execute_result"
    }
   ],
   "source": [
    "labelpath = 'musicnet/train_labels/1727.csv'\n",
    "label = pd.read_csv(labelpath)\n",
    "label"
   ]
  },
  {
   "cell_type": "code",
   "execution_count": 4,
   "metadata": {},
   "outputs": [
    {
     "data": {
      "text/plain": [
       "array([43, 42,  1, 44, 41], dtype=int64)"
      ]
     },
     "execution_count": 4,
     "metadata": {},
     "output_type": "execute_result"
    }
   ],
   "source": [
    "pd.unique(label['instrument'])"
   ]
  },
  {
   "cell_type": "code",
   "execution_count": 6,
   "metadata": {},
   "outputs": [
    {
     "data": {
      "text/html": [
       "<div>\n",
       "<style scoped>\n",
       "    .dataframe tbody tr th:only-of-type {\n",
       "        vertical-align: middle;\n",
       "    }\n",
       "\n",
       "    .dataframe tbody tr th {\n",
       "        vertical-align: top;\n",
       "    }\n",
       "\n",
       "    .dataframe thead th {\n",
       "        text-align: right;\n",
       "    }\n",
       "</style>\n",
       "<table border=\"1\" class=\"dataframe\">\n",
       "  <thead>\n",
       "    <tr style=\"text-align: right;\">\n",
       "      <th></th>\n",
       "      <th>id</th>\n",
       "      <th>composer</th>\n",
       "      <th>composition</th>\n",
       "      <th>movement</th>\n",
       "      <th>ensemble</th>\n",
       "      <th>source</th>\n",
       "      <th>transcriber</th>\n",
       "      <th>catalog_name</th>\n",
       "      <th>seconds</th>\n",
       "    </tr>\n",
       "  </thead>\n",
       "  <tbody>\n",
       "    <tr>\n",
       "      <th>0</th>\n",
       "      <td>1727</td>\n",
       "      <td>Schubert</td>\n",
       "      <td>Piano Quintet in A major</td>\n",
       "      <td>2. Andante</td>\n",
       "      <td>Piano Quintet</td>\n",
       "      <td>European Archive</td>\n",
       "      <td>http://tirolmusic.blogspot.com/</td>\n",
       "      <td>OP114</td>\n",
       "      <td>447</td>\n",
       "    </tr>\n",
       "    <tr>\n",
       "      <th>1</th>\n",
       "      <td>1728</td>\n",
       "      <td>Schubert</td>\n",
       "      <td>Piano Quintet in A major</td>\n",
       "      <td>3. Scherzo: Presto</td>\n",
       "      <td>Piano Quintet</td>\n",
       "      <td>European Archive</td>\n",
       "      <td>http://tirolmusic.blogspot.com/</td>\n",
       "      <td>OP114</td>\n",
       "      <td>251</td>\n",
       "    </tr>\n",
       "    <tr>\n",
       "      <th>2</th>\n",
       "      <td>1729</td>\n",
       "      <td>Schubert</td>\n",
       "      <td>Piano Quintet in A major</td>\n",
       "      <td>4. Andantino - Allegretto</td>\n",
       "      <td>Piano Quintet</td>\n",
       "      <td>European Archive</td>\n",
       "      <td>http://tirolmusic.blogspot.com/</td>\n",
       "      <td>OP114</td>\n",
       "      <td>444</td>\n",
       "    </tr>\n",
       "    <tr>\n",
       "      <th>3</th>\n",
       "      <td>1730</td>\n",
       "      <td>Schubert</td>\n",
       "      <td>Piano Quintet in A major</td>\n",
       "      <td>5. Allegro giusto</td>\n",
       "      <td>Piano Quintet</td>\n",
       "      <td>European Archive</td>\n",
       "      <td>http://tirolmusic.blogspot.com/</td>\n",
       "      <td>OP114</td>\n",
       "      <td>368</td>\n",
       "    </tr>\n",
       "    <tr>\n",
       "      <th>4</th>\n",
       "      <td>1733</td>\n",
       "      <td>Schubert</td>\n",
       "      <td>Piano Sonata in A major</td>\n",
       "      <td>2. Andantino</td>\n",
       "      <td>Solo Piano</td>\n",
       "      <td>Museopen</td>\n",
       "      <td>Segundo G. Yogore</td>\n",
       "      <td>D959</td>\n",
       "      <td>546</td>\n",
       "    </tr>\n",
       "    <tr>\n",
       "      <th>...</th>\n",
       "      <td>...</td>\n",
       "      <td>...</td>\n",
       "      <td>...</td>\n",
       "      <td>...</td>\n",
       "      <td>...</td>\n",
       "      <td>...</td>\n",
       "      <td>...</td>\n",
       "      <td>...</td>\n",
       "      <td>...</td>\n",
       "    </tr>\n",
       "    <tr>\n",
       "      <th>325</th>\n",
       "      <td>2632</td>\n",
       "      <td>Beethoven</td>\n",
       "      <td>Piano Sonata No 10 in G major</td>\n",
       "      <td>2. Andante</td>\n",
       "      <td>Solo Piano</td>\n",
       "      <td>Paul Pitman</td>\n",
       "      <td>piano-midi.de</td>\n",
       "      <td>OP14NO2</td>\n",
       "      <td>341</td>\n",
       "    </tr>\n",
       "    <tr>\n",
       "      <th>326</th>\n",
       "      <td>2633</td>\n",
       "      <td>Beethoven</td>\n",
       "      <td>Piano Sonata No 10 in G major</td>\n",
       "      <td>3. Scherzo: Allegro assai</td>\n",
       "      <td>Solo Piano</td>\n",
       "      <td>Paul Pitman</td>\n",
       "      <td>piano-midi.de</td>\n",
       "      <td>OP14NO2</td>\n",
       "      <td>227</td>\n",
       "    </tr>\n",
       "    <tr>\n",
       "      <th>327</th>\n",
       "      <td>2659</td>\n",
       "      <td>Bach</td>\n",
       "      <td>Violin Partita No 1 in B minor</td>\n",
       "      <td>6. Double</td>\n",
       "      <td>Solo Violin</td>\n",
       "      <td>John Garner</td>\n",
       "      <td>suzumidi</td>\n",
       "      <td>BWV1002</td>\n",
       "      <td>108</td>\n",
       "    </tr>\n",
       "    <tr>\n",
       "      <th>328</th>\n",
       "      <td>2677</td>\n",
       "      <td>Beethoven</td>\n",
       "      <td>Piano Sonata No 9 in E major</td>\n",
       "      <td>1. Allegro</td>\n",
       "      <td>Solo Piano</td>\n",
       "      <td>Paul Pitman</td>\n",
       "      <td>piano-midi.de</td>\n",
       "      <td>OP14NO1</td>\n",
       "      <td>445</td>\n",
       "    </tr>\n",
       "    <tr>\n",
       "      <th>329</th>\n",
       "      <td>2678</td>\n",
       "      <td>Beethoven</td>\n",
       "      <td>Piano Sonata No 10 in G major</td>\n",
       "      <td>1. Allegro</td>\n",
       "      <td>Solo Piano</td>\n",
       "      <td>Paul Pitman</td>\n",
       "      <td>piano-midi.de</td>\n",
       "      <td>OP14NO2</td>\n",
       "      <td>472</td>\n",
       "    </tr>\n",
       "  </tbody>\n",
       "</table>\n",
       "<p>330 rows × 9 columns</p>\n",
       "</div>"
      ],
      "text/plain": [
       "       id   composer                     composition  \\\n",
       "0    1727   Schubert        Piano Quintet in A major   \n",
       "1    1728   Schubert        Piano Quintet in A major   \n",
       "2    1729   Schubert        Piano Quintet in A major   \n",
       "3    1730   Schubert        Piano Quintet in A major   \n",
       "4    1733   Schubert         Piano Sonata in A major   \n",
       "..    ...        ...                             ...   \n",
       "325  2632  Beethoven   Piano Sonata No 10 in G major   \n",
       "326  2633  Beethoven   Piano Sonata No 10 in G major   \n",
       "327  2659       Bach  Violin Partita No 1 in B minor   \n",
       "328  2677  Beethoven    Piano Sonata No 9 in E major   \n",
       "329  2678  Beethoven   Piano Sonata No 10 in G major   \n",
       "\n",
       "                      movement       ensemble            source  \\\n",
       "0                   2. Andante  Piano Quintet  European Archive   \n",
       "1           3. Scherzo: Presto  Piano Quintet  European Archive   \n",
       "2    4. Andantino - Allegretto  Piano Quintet  European Archive   \n",
       "3            5. Allegro giusto  Piano Quintet  European Archive   \n",
       "4                 2. Andantino     Solo Piano          Museopen   \n",
       "..                         ...            ...               ...   \n",
       "325                 2. Andante     Solo Piano       Paul Pitman   \n",
       "326  3. Scherzo: Allegro assai     Solo Piano       Paul Pitman   \n",
       "327                  6. Double    Solo Violin       John Garner   \n",
       "328                 1. Allegro     Solo Piano       Paul Pitman   \n",
       "329                 1. Allegro     Solo Piano       Paul Pitman   \n",
       "\n",
       "                         transcriber catalog_name  seconds  \n",
       "0    http://tirolmusic.blogspot.com/        OP114      447  \n",
       "1    http://tirolmusic.blogspot.com/        OP114      251  \n",
       "2    http://tirolmusic.blogspot.com/        OP114      444  \n",
       "3    http://tirolmusic.blogspot.com/        OP114      368  \n",
       "4                  Segundo G. Yogore         D959      546  \n",
       "..                               ...          ...      ...  \n",
       "325                    piano-midi.de      OP14NO2      341  \n",
       "326                    piano-midi.de      OP14NO2      227  \n",
       "327                         suzumidi      BWV1002      108  \n",
       "328                    piano-midi.de      OP14NO1      445  \n",
       "329                    piano-midi.de      OP14NO2      472  \n",
       "\n",
       "[330 rows x 9 columns]"
      ]
     },
     "execution_count": 6,
     "metadata": {},
     "output_type": "execute_result"
    }
   ],
   "source": [
    "metadata = pd.read_csv('musicnet_metadata.csv')\n",
    "metadata"
   ]
  },
  {
   "cell_type": "markdown",
   "metadata": {},
   "source": [
    "## Next Steps:\n",
    "\n",
    "- Spectral Analysis of Songs\n",
    "- Find/Create a dictionary that assigns the MIDI label to the actual instrument\n",
    "- MIDI -> Wav (?) [possible but split instruments first]\n",
    "- Use ensembles WITHOUT solo\n",
    "- Figure out how to store each instrument similarly to the signal itself (Y values)"
   ]
  },
  {
   "cell_type": "code",
   "execution_count": 1,
   "metadata": {},
   "outputs": [
    {
     "ename": "ModuleNotFoundError",
     "evalue": "No module named 'librosa'",
     "output_type": "error",
     "traceback": [
      "\u001b[1;31m---------------------------------------------------------------------------\u001b[0m",
      "\u001b[1;31mModuleNotFoundError\u001b[0m                       Traceback (most recent call last)",
      "\u001b[1;32m<ipython-input-1-989066361697>\u001b[0m in \u001b[0;36m<module>\u001b[1;34m\u001b[0m\n\u001b[1;32m----> 1\u001b[1;33m \u001b[1;32mimport\u001b[0m \u001b[0mlibrosa\u001b[0m\u001b[1;33m\u001b[0m\u001b[1;33m\u001b[0m\u001b[0m\n\u001b[0m",
      "\u001b[1;31mModuleNotFoundError\u001b[0m: No module named 'librosa'"
     ]
    }
   ],
   "source": []
  },
  {
   "cell_type": "code",
   "execution_count": null,
   "metadata": {},
   "outputs": [],
   "source": []
  }
 ],
 "metadata": {
  "kernelspec": {
   "display_name": "Python 3",
   "language": "python",
   "name": "python3"
  },
  "language_info": {
   "codemirror_mode": {
    "name": "ipython",
    "version": 3
   },
   "file_extension": ".py",
   "mimetype": "text/x-python",
   "name": "python",
   "nbconvert_exporter": "python",
   "pygments_lexer": "ipython3",
   "version": "3.7.6"
  }
 },
 "nbformat": 4,
 "nbformat_minor": 4
}
=======
  "nbformat": 4,
  "nbformat_minor": 0,
  "metadata": {
    "colab": {
      "name": "Full Procedure.ipynb",
      "provenance": [],
      "collapsed_sections": [],
      "toc_visible": true,
      "mount_file_id": "19Hc7xCKcVh6TMhtr503Auy40ZJKPyzXA",
      "authorship_tag": "ABX9TyOaeOW32sUh3C8mjBaLJgH5",
      "include_colab_link": true
    },
    "kernelspec": {
      "name": "python3",
      "display_name": "Python 3"
    }
  },
  "cells": [
    {
      "cell_type": "markdown",
      "metadata": {
        "id": "view-in-github",
        "colab_type": "text"
      },
      "source": [
        "<a href=\"https://colab.research.google.com/github/theadamsabra/Audio-Source-Separation-Undergraduate-Thesis/blob/master/Full%20Procedure.ipynb\" target=\"_parent\"><img src=\"https://colab.research.google.com/assets/colab-badge.svg\" alt=\"Open In Colab\"/></a>"
      ]
    },
    {
      "cell_type": "markdown",
      "metadata": {
        "id": "a_2fNFcOmOq0",
        "colab_type": "text"
      },
      "source": [
        "## RUN CELL BELOW FOR REQUIRED PACKAGES"
      ]
    },
    {
      "cell_type": "code",
      "metadata": {
        "id": "3TK0DJeOlE8s",
        "colab_type": "code",
        "colab": {
          "base_uri": "https://localhost:8080/",
          "height": 127
        },
        "outputId": "a02534b0-7474-4567-ccd8-a5b3ddbc4df8"
      },
      "source": [
        "!pip install soundfile"
      ],
      "execution_count": null,
      "outputs": [
        {
          "output_type": "stream",
          "text": [
            "Collecting soundfile\n",
            "  Downloading https://files.pythonhosted.org/packages/eb/f2/3cbbbf3b96fb9fa91582c438b574cff3f45b29c772f94c400e2c99ef5db9/SoundFile-0.10.3.post1-py2.py3-none-any.whl\n",
            "Requirement already satisfied: cffi>=1.0 in /usr/local/lib/python3.6/dist-packages (from soundfile) (1.14.0)\n",
            "Requirement already satisfied: pycparser in /usr/local/lib/python3.6/dist-packages (from cffi>=1.0->soundfile) (2.20)\n",
            "Installing collected packages: soundfile\n",
            "Successfully installed soundfile-0.10.3.post1\n"
          ],
          "name": "stdout"
        }
      ]
    },
    {
      "cell_type": "markdown",
      "metadata": {
        "id": "BK5vpg0El8LU",
        "colab_type": "text"
      },
      "source": [
        "## Running on GPU:"
      ]
    },
    {
      "cell_type": "code",
      "metadata": {
        "id": "MhS8D8V1mf9A",
        "colab_type": "code",
        "colab": {
          "base_uri": "https://localhost:8080/",
          "height": 35
        },
        "outputId": "1efa277f-1a23-4eb5-cbae-def6d0c1771e"
      },
      "source": [
        "# from numba import cuda\n",
        "\n",
        "# @cuda.jit\n",
        "# def run_time(array):"
      ],
      "execution_count": 1,
      "outputs": [
        {
          "output_type": "stream",
          "text": [
            "<Managed Device 0>\n"
          ],
          "name": "stdout"
        }
      ]
    },
    {
      "cell_type": "markdown",
      "metadata": {
        "id": "-hhFiTrmmY1t",
        "colab_type": "text"
      },
      "source": [
        "## 1: Exploratory Data Analysis"
      ]
    },
    {
      "cell_type": "markdown",
      "metadata": {
        "id": "h72GHihOPnE_",
        "colab_type": "text"
      },
      "source": [
        "### 1.1: Preliminary Data Exploration"
      ]
    },
    {
      "cell_type": "code",
      "metadata": {
        "id": "wgjtExxprx3i",
        "colab_type": "code",
        "colab": {}
      },
      "source": [
        "import os\n",
        "import librosa\n",
        "import soundfile as sf\n",
        "import numpy as np\n",
        "import scipy\n",
        "from matplotlib import pyplot as plt\n",
        "from google.colab import drive"
      ],
      "execution_count": null,
      "outputs": []
    },
    {
      "cell_type": "code",
      "metadata": {
        "id": "Ja9uLgetxpF8",
        "colab_type": "code",
        "colab": {
          "base_uri": "https://localhost:8080/",
          "height": 35
        },
        "outputId": "0a0bc159-501a-479d-b048-ed0aafa3c399"
      },
      "source": [
        "drive.mount('/content/drive')\n",
        "path = '/content/drive/My Drive/Thesis/Miles Davis - Kind of Blue'\n",
        "directory = os.listdir(path)\n",
        "files = [f for f in directory if os.path.isfile(os.path.join(path, f))]"
      ],
      "execution_count": null,
      "outputs": [
        {
          "output_type": "stream",
          "text": [
            "Drive already mounted at /content/drive; to attempt to forcibly remount, call drive.mount(\"/content/drive\", force_remount=True).\n"
          ],
          "name": "stdout"
        }
      ]
    },
    {
      "cell_type": "markdown",
      "metadata": {
        "id": "CWSRvfKlwtq-",
        "colab_type": "text"
      },
      "source": [
        "Song Properties: 7.1 Multichannel which implies 8 recording channels (features) \n"
      ]
    },
    {
      "cell_type": "code",
      "metadata": {
        "id": "8S_3-xlZxDfk",
        "colab_type": "code",
        "colab": {}
      },
      "source": [
        "test_file = files[3]\n",
        "song_path = path + '/' + test_file\n",
        "data, samplerate = sf.read(song_path)      "
      ],
      "execution_count": null,
      "outputs": []
    },
    {
      "cell_type": "code",
      "metadata": {
        "id": "kI8lKlsQ18Ay",
        "colab_type": "code",
        "colab": {
          "base_uri": "https://localhost:8080/",
          "height": 35
        },
        "outputId": "2b924f74-d607-471d-a19a-683777a88b51"
      },
      "source": [
        "data.shape"
      ],
      "execution_count": null,
      "outputs": [
        {
          "output_type": "execute_result",
          "data": {
            "text/plain": [
              "(66518089, 8)"
            ]
          },
          "metadata": {
            "tags": []
          },
          "execution_count": 5
        }
      ]
    },
    {
      "cell_type": "markdown",
      "metadata": {
        "id": "pZpbJj4xQQfB",
        "colab_type": "text"
      },
      "source": [
        "The objective of this project is to locate the 4 instruments (sources) from the 8 channel recordings. Below is a snippet of $\\approx$7 seconds of the song \"All Blues.\" You can see the recordings from all 8 channels.\n"
      ]
    },
    {
      "cell_type": "code",
      "metadata": {
        "id": "h3Q-mugOz8xr",
        "colab_type": "code",
        "colab": {
          "base_uri": "https://localhost:8080/",
          "height": 607
        },
        "outputId": "e3fb638a-e9a2-4b85-ee0c-1d300a93f676"
      },
      "source": [
        "# CHANGE FUNCTION FOR ONLY DATA AS THE PARAMETER\n",
        "# REMOVE NUM_CHANNELS PARAMETER AND TEST FOR NUM CHANNELS BEING EVEN OR ODD\n",
        "# ADD FIGSIZE PARAMETER BUT INITIALIZE AND LEAVE IT\n",
        "samp_time = time[:int(time.size/100)]\n",
        "samp_data = data[:int(time.size/100), :]\n",
        "\n",
        "def mchan_wavform(data, time, num_chan = 8):\n",
        "  '''\n",
        "  Call function to visualize the waveform of all channels.\n",
        "\n",
        "  Parameters\n",
        "  ---------- \n",
        "  data: array\n",
        "    2D array of the multichannel song to visualize.\n",
        "  \n",
        "  -- Returns --\n",
        "  matplotlib figure\n",
        "    Waveform of the various channels.\n",
        "  '''\n",
        "\n",
        "  fig, ax = plt.subplots(2, int(num_chan / 2), figsize = (24,10), sharex = True, \n",
        "                         sharey = True)\n",
        "  for i, axes in enumerate(ax.flatten()):\n",
        "    axes.plot(samp_time, samp_data[:, i])\n",
        "    axes.set(title = 'Channel ' + str(i + 1))\n",
        "  plt.show()\n",
        "\n",
        "mchan_wavform(samp_data, samp_time)"
      ],
      "execution_count": null,
      "outputs": [
        {
          "output_type": "display_data",
          "data": {
            "image/png": "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\n",
            "text/plain": [
              "<Figure size 1728x720 with 8 Axes>"
            ]
          },
          "metadata": {
            "tags": [],
            "needs_background": "light"
          }
        }
      ]
    },
    {
      "cell_type": "markdown",
      "metadata": {
        "id": "opKt6VUOPNg-",
        "colab_type": "text"
      },
      "source": [
        "### 1.2: Moving to the Frequency Domain"
      ]
    },
    {
      "cell_type": "markdown",
      "metadata": {
        "id": "m3qnFysrUdPZ",
        "colab_type": "text"
      },
      "source": [
        "#### 1.2.1: Fast Fourier Transform"
      ]
    },
    {
      "cell_type": "code",
      "metadata": {
        "id": "G05IGONCPMmL",
        "colab_type": "code",
        "colab": {
          "base_uri": "https://localhost:8080/",
          "height": 607
        },
        "outputId": "31a387e0-42cf-4134-96f3-bdf97029be00"
      },
      "source": [
        "# REMOVE NUM_CHANNELS PARAMETER AND TEST FOR NUM CHANNELS BEING EVEN OR ODD\n",
        "# ADD PARAMETER CALLED LEFT TYPE BOOLEAN\n",
        "# ADD FIGSIZE PARAMETER BUT INITIALIZE AND LEAVE IT\n",
        "def mchan_fft(data, samplerate, num_channels = 8):\n",
        "  '''\n",
        "  Call function to visualize Fourier transformation of all channels.\n",
        "\n",
        "  Parameters\n",
        "  ----------\n",
        "  data: array\n",
        "    2D array of the multichannel song to visualize. \n",
        "\n",
        "  samplerate: int\n",
        "    Sampling rate of song. Will usually be given when reading in the song.\n",
        "  \n",
        "  symmetric: boolean\n",
        "    Determine whether or not to visualize the symmetric property of the Fourier\n",
        "    Transformation. Will be initialized to False as it is dificult to see the\n",
        "    details when viewing both extremities.\n",
        "    \n",
        "  Returns\n",
        "  -------\n",
        "  matplotlib figure\n",
        "    Fourier transformation of the various channels.\n",
        "  '''\n",
        "  fig, ax = plt.subplots(2, int(num_channels / 2), figsize = (24,10), \n",
        "                         sharex = True, sharey = True)\n",
        "  for i, axes in enumerate(ax.flatten()):\n",
        "    fft = np.fft.fft(data[:, i])\n",
        "    mag = np.abs(fft)\n",
        "    freq = np.linspace(0, samplerate, len(mag))\n",
        "    axes.plot(freq, mag)\n",
        "    axes.set(title = 'Channel ' + str(i + 1))\n",
        "  plt.show()\n",
        "\n",
        "mchan_fft(samp_data, samplerate)"
      ],
      "execution_count": null,
      "outputs": [
        {
          "output_type": "display_data",
          "data": {
            "image/png": "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\n",
            "text/plain": [
              "<Figure size 1728x720 with 8 Axes>"
            ]
          },
          "metadata": {
            "tags": [],
            "needs_background": "light"
          }
        }
      ]
    },
    {
      "cell_type": "markdown",
      "metadata": {
        "id": "XOeysx1-UXPC",
        "colab_type": "text"
      },
      "source": [
        "The symmetrical form of the FFT can be seen in the graphs above. We will look at the left power of the channels.\n",
        "\n",
        "#### 1.2.2: Left Power"
      ]
    },
    {
      "cell_type": "code",
      "metadata": {
        "id": "K9f6U0KPRZFW",
        "colab_type": "code",
        "colab": {}
      },
      "source": [
        "def mchan_left_fft(data, samplerate, num_channels = 8):\n",
        "  fig, ax = plt.subplots(2, int(num_channels / 2), figsize = (24,10), \n",
        "                         sharex = True, sharey = True)\n",
        "  for i, axes in enumerate(ax.flatten()):\n",
        "    fft = np.fft.fft(data[:, i])\n",
        "    mag = np.abs(fft)\n",
        "    freq = np.linspace(0, samplerate, len(mag))\n",
        "    axes.plot(freq, mag)\n",
        "    axes.set(title = 'Channel ' + str(i + 1))\n",
        "  plt.show()"
      ],
      "execution_count": null,
      "outputs": []
    },
    {
      "cell_type": "markdown",
      "metadata": {
        "id": "U1yYd1oZYORh",
        "colab_type": "text"
      },
      "source": [
        "#### 1.2.3: Short Time Fourier Transform to Spectrogram"
      ]
    },
    {
      "cell_type": "code",
      "metadata": {
        "id": "7chc8-LqgcrW",
        "colab_type": "code",
        "colab": {}
      },
      "source": [
        "def mchan_spec():\n",
        "  pass\n",
        "  #Return spec and stft if True\n",
        "mchan_spec()"
      ],
      "execution_count": null,
      "outputs": []
    },
    {
      "cell_type": "markdown",
      "metadata": {
        "id": "PYcnJs02YeUS",
        "colab_type": "text"
      },
      "source": [
        "#### 1.2.4: Mel Frequency Cepstrum Coefficient"
      ]
    },
    {
      "cell_type": "code",
      "metadata": {
        "id": "wtP21l2ogdHc",
        "colab_type": "code",
        "colab": {}
      },
      "source": [
        "def mchan_mfcc():\n",
        "  pass\n",
        "\n",
        "mchan_mfcc()"
      ],
      "execution_count": null,
      "outputs": []
    },
    {
      "cell_type": "markdown",
      "metadata": {
        "id": "fGzjJTrk7kau",
        "colab_type": "text"
      },
      "source": [
        "There is a lot of potential for a GUI implementation of above."
      ]
    },
    {
      "cell_type": "markdown",
      "metadata": {
        "id": "v4n-X36-SevK",
        "colab_type": "text"
      },
      "source": [
        "## 2: Data Processing"
      ]
    },
    {
      "cell_type": "markdown",
      "metadata": {
        "id": "wq5LhdgQhG1d",
        "colab_type": "text"
      },
      "source": [
        "### 2.1: Audio Sampling"
      ]
    },
    {
      "cell_type": "code",
      "metadata": {
        "id": "zsQwqSKNSh_4",
        "colab_type": "code",
        "colab": {}
      },
      "source": [
        " # Slice audio into 30 second snippets\n",
        " def thirty_sec(folder_path):\n",
        "   pass\n",
        "   # Return numpy array of all data"
      ],
      "execution_count": null,
      "outputs": []
    },
    {
      "cell_type": "markdown",
      "metadata": {
        "id": "3fFraLpUhh-J",
        "colab_type": "text"
      },
      "source": [
        "### 2.2: Sample Processing"
      ]
    },
    {
      "cell_type": "code",
      "metadata": {
        "id": "Jekaq8UdhuOy",
        "colab_type": "code",
        "colab": {}
      },
      "source": [
        "# Take snippets and process into train and test set\n",
        "def sample_process(data_array):\n",
        "  pass\n",
        "  # Return x_train, x_test, y_train, y_test"
      ],
      "execution_count": null,
      "outputs": []
    },
    {
      "cell_type": "markdown",
      "metadata": {
        "id": "H8_Qe2yHeGHS",
        "colab_type": "text"
      },
      "source": [
        "## 3: Building the Deep Neural Network"
      ]
    },
    {
      "cell_type": "code",
      "metadata": {
        "id": "M8mzeCddeNnL",
        "colab_type": "code",
        "colab": {}
      },
      "source": [
        ""
      ],
      "execution_count": null,
      "outputs": []
    }
  ]
}
>>>>>>> 7b7d22a54514ef085eec048adefbe9868be9ab5e
